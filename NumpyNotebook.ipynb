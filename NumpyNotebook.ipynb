{
 "cells": [
  {
   "cell_type": "markdown",
   "metadata": {},
   "source": [
    "<img src=\"https://raw.githubusercontent.com/toqafotoh/TeamPreparation/main/Blue%20and%20Yellow%20Playful%20Doodle%20Digital%20Brainstorm%20Presentation.png\">"
   ]
  },
  {
   "cell_type": "markdown",
   "metadata": {},
   "source": [
    "<span style=\"color: #8f3b43; font-size: 35px;\">Useless Note 🙈 </span>\n",
    "### 💥 The name \"NumPy\" is short for \"Numerical Python.\" oohh"
   ]
  },
  {
   "cell_type": "code",
   "execution_count": 3,
   "metadata": {},
   "outputs": [],
   "source": [
    "#imorting the library to work with\n",
    "import numpy as np"
   ]
  },
  {
   "cell_type": "code",
   "execution_count": 9,
   "metadata": {},
   "outputs": [
    {
     "data": {
      "text/plain": [
       "array([1, 2, 3, 4, 5])"
      ]
     },
     "execution_count": 9,
     "metadata": {},
     "output_type": "execute_result"
    }
   ],
   "source": [
    "#the simplist and first way to create numpy array\n",
    "arr = np.array([1, 2, 3, 4, 5])\n",
    "arr"
   ]
  },
  {
   "cell_type": "code",
   "execution_count": 7,
   "metadata": {},
   "outputs": [
    {
     "data": {
      "text/plain": [
       "numpy.ndarray"
      ]
     },
     "execution_count": 7,
     "metadata": {},
     "output_type": "execute_result"
    }
   ],
   "source": [
    "type(arr)\n",
    "#as we see the type isn't list, and even when printing it , it's preceded by the word array"
   ]
  },
  {
   "cell_type": "code",
   "execution_count": 13,
   "metadata": {},
   "outputs": [
    {
     "data": {
      "text/plain": [
       "array([1, 2, 3, 4, 5])"
      ]
     },
     "execution_count": 13,
     "metadata": {},
     "output_type": "execute_result"
    }
   ],
   "source": [
    "#you can create it with passing alist, tuple,set to this fuction\n",
    "arr = np.array((1, 2, 3, 4, 5))\n",
    "arr"
   ]
  },
  {
   "cell_type": "code",
   "execution_count": 13,
   "metadata": {},
   "outputs": [
    {
     "name": "stdout",
     "output_type": "stream",
     "text": [
      "[     0      1      2 ... 999997 999998 999999]\n",
      "[ 1  3  5  7  9 11 13 15 17 19 21 23 25 27 29 31 33 35 37 39 41 43 45 47\n",
      " 49]\n",
      "[[ 1  2  3  4]\n",
      " [ 5  6  7  8]\n",
      " [ 9 10 11 12]]\n"
     ]
    }
   ],
   "source": [
    "'''\n",
    "or create it with the function \"arange\"\n",
    "it can take a number and make you an array from 1 to it \n",
    "or take a start point , ending point and step .. as range function\n",
    "'''\n",
    "arr1 = np.arange(1000000)\n",
    "arr2 = np.arange(1,50,2)\n",
    "print(arr1)\n",
    "print(arr2)\n",
    "\n",
    "arr3 = np.arange(1,13).reshape(3,4) \n",
    "print(arr3)\n",
    "#this line of code let you reshape the array \n",
    "#But 💥 the multiplication of x and y must = n elements, or it will cause an error\n",
    "#here we have from 1-->12 so 12 element and 3*4=12"
   ]
  },
  {
   "cell_type": "code",
   "execution_count": 21,
   "metadata": {},
   "outputs": [],
   "source": [
    "np.random.seed(42)\n",
    "# this line of code for the random functions to give you the same output no matter how many times u run the code"
   ]
  },
  {
   "cell_type": "code",
   "execution_count": 11,
   "metadata": {},
   "outputs": [
    {
     "name": "stdout",
     "output_type": "stream",
     "text": [
      "random.rand :\n",
      " [[0.58029804 0.83031445 0.81534501]\n",
      " [0.49944706 0.79939526 0.97445396]\n",
      " [0.30999673 0.6296296  0.96771591]]\n",
      "\n",
      "random.random :\n",
      " [0.27809304 0.26776166 0.50810576 0.91281503 0.10278619 0.66605493]\n",
      "\n",
      "random.randint :\n",
      " [[7 3 4 8]\n",
      " [3 6 5 7]]\n",
      "\n"
     ]
    }
   ],
   "source": [
    "arr1 = np.random.rand(3,3)\n",
    "arr2 = np.random.random((6))\n",
    "'''\n",
    "random.rand and random.random is 2 functions which return an array\n",
    "consist of float numbers from 0 to 1 , and the 1 is exclusive\n",
    "but the different is the paramters ,\n",
    "so .rand you can specify its dimensions but .random is only 1D \n",
    "'''\n",
    "arr3 = np.random.randint(1,10,size=(2,4))\n",
    "# .randint returns integer numbers not float\n",
    "print(f\"random.rand :\\n {arr1}\\n\")\n",
    "print(f\"random.random :\\n {arr2}\\n\")\n",
    "print(f\"random.randint :\\n {arr3}\\n\")"
   ]
  },
  {
   "cell_type": "code",
   "execution_count": 30,
   "metadata": {},
   "outputs": [
    {
     "data": {
      "text/plain": [
       "array([0. , 0.1, 0.2, 0.3, 0.4, 0.5, 0.6, 0.7, 0.8, 0.9, 1. ])"
      ]
     },
     "execution_count": 30,
     "metadata": {},
     "output_type": "execute_result"
    }
   ],
   "source": [
    "arr = np.linspace(0, 1, 11, endpoint=True)\n",
    "arr\n",
    "#linspace is different that the third argument is the number of elements \n"
   ]
  },
  {
   "cell_type": "markdown",
   "metadata": {},
   "source": [
    "endpoint here is an argument that determine whether the ending value in included or not <br/>\n",
    "<span style=\"color: #8f3b43; font-size: 35px;\">✨NOTE :</span><br/>\n",
    "<span style=\"color: blue; font-size: 20px;\">you can check the documentation of any function to see its arguments and their importance by typing \"function name\"+\"?\"</span>"
   ]
  },
  {
   "cell_type": "code",
   "execution_count": 31,
   "metadata": {},
   "outputs": [
    {
     "name": "stdout",
     "output_type": "stream",
     "text": [
      "\u001b[1;31mSignature:\u001b[0m\n",
      "\u001b[0mnp\u001b[0m\u001b[1;33m.\u001b[0m\u001b[0mlinspace\u001b[0m\u001b[1;33m(\u001b[0m\u001b[1;33m\n",
      "\u001b[0m    \u001b[0mstart\u001b[0m\u001b[1;33m,\u001b[0m\u001b[1;33m\n",
      "\u001b[0m    \u001b[0mstop\u001b[0m\u001b[1;33m,\u001b[0m\u001b[1;33m\n",
      "\u001b[0m    \u001b[0mnum\u001b[0m\u001b[1;33m=\u001b[0m\u001b[1;36m50\u001b[0m\u001b[1;33m,\u001b[0m\u001b[1;33m\n",
      "\u001b[0m    \u001b[0mendpoint\u001b[0m\u001b[1;33m=\u001b[0m\u001b[1;32mTrue\u001b[0m\u001b[1;33m,\u001b[0m\u001b[1;33m\n",
      "\u001b[0m    \u001b[0mretstep\u001b[0m\u001b[1;33m=\u001b[0m\u001b[1;32mFalse\u001b[0m\u001b[1;33m,\u001b[0m\u001b[1;33m\n",
      "\u001b[0m    \u001b[0mdtype\u001b[0m\u001b[1;33m=\u001b[0m\u001b[1;32mNone\u001b[0m\u001b[1;33m,\u001b[0m\u001b[1;33m\n",
      "\u001b[0m    \u001b[0maxis\u001b[0m\u001b[1;33m=\u001b[0m\u001b[1;36m0\u001b[0m\u001b[1;33m,\u001b[0m\u001b[1;33m\n",
      "\u001b[0m\u001b[1;33m)\u001b[0m\u001b[1;33m\u001b[0m\u001b[1;33m\u001b[0m\u001b[0m\n",
      "\u001b[1;31mDocstring:\u001b[0m\n",
      "Return evenly spaced numbers over a specified interval.\n",
      "\n",
      "Returns `num` evenly spaced samples, calculated over the\n",
      "interval [`start`, `stop`].\n",
      "\n",
      "The endpoint of the interval can optionally be excluded.\n",
      "\n",
      ".. versionchanged:: 1.16.0\n",
      "    Non-scalar `start` and `stop` are now supported.\n",
      "\n",
      ".. versionchanged:: 1.20.0\n",
      "    Values are rounded towards ``-inf`` instead of ``0`` when an\n",
      "    integer ``dtype`` is specified. The old behavior can\n",
      "    still be obtained with ``np.linspace(start, stop, num).astype(int)``\n",
      "\n",
      "Parameters\n",
      "----------\n",
      "start : array_like\n",
      "    The starting value of the sequence.\n",
      "stop : array_like\n",
      "    The end value of the sequence, unless `endpoint` is set to False.\n",
      "    In that case, the sequence consists of all but the last of ``num + 1``\n",
      "    evenly spaced samples, so that `stop` is excluded.  Note that the step\n",
      "    size changes when `endpoint` is False.\n",
      "num : int, optional\n",
      "    Number of samples to generate. Default is 50. Must be non-negative.\n",
      "endpoint : bool, optional\n",
      "    If True, `stop` is the last sample. Otherwise, it is not included.\n",
      "    Default is True.\n",
      "retstep : bool, optional\n",
      "    If True, return (`samples`, `step`), where `step` is the spacing\n",
      "    between samples.\n",
      "dtype : dtype, optional\n",
      "    The type of the output array.  If `dtype` is not given, the data type\n",
      "    is inferred from `start` and `stop`. The inferred dtype will never be\n",
      "    an integer; `float` is chosen even if the arguments would produce an\n",
      "    array of integers.\n",
      "\n",
      "    .. versionadded:: 1.9.0\n",
      "\n",
      "axis : int, optional\n",
      "    The axis in the result to store the samples.  Relevant only if start\n",
      "    or stop are array-like.  By default (0), the samples will be along a\n",
      "    new axis inserted at the beginning. Use -1 to get an axis at the end.\n",
      "\n",
      "    .. versionadded:: 1.16.0\n",
      "\n",
      "Returns\n",
      "-------\n",
      "samples : ndarray\n",
      "    There are `num` equally spaced samples in the closed interval\n",
      "    ``[start, stop]`` or the half-open interval ``[start, stop)``\n",
      "    (depending on whether `endpoint` is True or False).\n",
      "step : float, optional\n",
      "    Only returned if `retstep` is True\n",
      "\n",
      "    Size of spacing between samples.\n",
      "\n",
      "\n",
      "See Also\n",
      "--------\n",
      "arange : Similar to `linspace`, but uses a step size (instead of the\n",
      "         number of samples).\n",
      "geomspace : Similar to `linspace`, but with numbers spaced evenly on a log\n",
      "            scale (a geometric progression).\n",
      "logspace : Similar to `geomspace`, but with the end points specified as\n",
      "           logarithms.\n",
      "\n",
      "Examples\n",
      "--------\n",
      ">>> np.linspace(2.0, 3.0, num=5)\n",
      "array([2.  , 2.25, 2.5 , 2.75, 3.  ])\n",
      ">>> np.linspace(2.0, 3.0, num=5, endpoint=False)\n",
      "array([2. ,  2.2,  2.4,  2.6,  2.8])\n",
      ">>> np.linspace(2.0, 3.0, num=5, retstep=True)\n",
      "(array([2.  ,  2.25,  2.5 ,  2.75,  3.  ]), 0.25)\n",
      "\n",
      "Graphical illustration:\n",
      "\n",
      ">>> import matplotlib.pyplot as plt\n",
      ">>> N = 8\n",
      ">>> y = np.zeros(N)\n",
      ">>> x1 = np.linspace(0, 10, N, endpoint=True)\n",
      ">>> x2 = np.linspace(0, 10, N, endpoint=False)\n",
      ">>> plt.plot(x1, y, 'o')\n",
      "[<matplotlib.lines.Line2D object at 0x...>]\n",
      ">>> plt.plot(x2, y + 0.5, 'o')\n",
      "[<matplotlib.lines.Line2D object at 0x...>]\n",
      ">>> plt.ylim([-0.5, 1])\n",
      "(-0.5, 1)\n",
      ">>> plt.show()\n",
      "\u001b[1;31mFile:\u001b[0m      c:\\users\\user\\anaconda3\\new folder\\lib\\site-packages\\numpy\\core\\function_base.py\n",
      "\u001b[1;31mType:\u001b[0m      function\n"
     ]
    }
   ],
   "source": [
    "np.linspace?"
   ]
  },
  {
   "cell_type": "markdown",
   "metadata": {},
   "source": [
    "<span style=\"color: #8f3b43; font-size: 25px;\">Special types of arrays</span>"
   ]
  },
  {
   "cell_type": "code",
   "execution_count": 23,
   "metadata": {},
   "outputs": [
    {
     "name": "stdout",
     "output_type": "stream",
     "text": [
      "zeros_array :\n",
      "[0. 0. 0. 0. 0.]\n",
      "\n",
      "ones_array :\n",
      "[1. 1. 1.]\n",
      "\n",
      "identity_matrix :\n",
      "[[1. 0. 0.]\n",
      " [0. 1. 0.]\n",
      " [0. 0. 1.]]\n",
      "\n",
      "empty_array :\n",
      "[[4.24399158e-314 8.48798317e-314 1.27319747e-313]\n",
      " [1.69759663e-313 2.12199579e-313 2.54639495e-313]]\n",
      "\n"
     ]
    }
   ],
   "source": [
    "# zeros and ones functions create a 1 dimensional array of n elements\n",
    "zeros_array = np.zeros(5) #olny zeros array\n",
    "ones_array = np.ones(3) #only ones array\n",
    "# eye is a function that makes 2D identity matrix of n*n \n",
    "identity_matrix = np.eye(3) \n",
    "empty_array = np.empty((2,3))\n",
    "#empty function returns garbage float values\n",
    "print(f\"zeros_array :\\n{zeros_array}\\n\")\n",
    "print(f\"ones_array :\\n{ones_array}\\n\")\n",
    "print(f\"identity_matrix :\\n{identity_matrix}\\n\")\n",
    "print(f\"empty_array :\\n{empty_array}\\n\")"
   ]
  },
  {
   "cell_type": "code",
   "execution_count": 24,
   "metadata": {},
   "outputs": [
    {
     "name": "stdout",
     "output_type": "stream",
     "text": [
      "empty_array_int :\n",
      "[[         0 1072693248          0]\n",
      " [1072693248          0 1072693248]]\n",
      "\n",
      "empty_array_bool :\n",
      "[[ True  True  True]\n",
      " [ True  True  True]]\n",
      "\n"
     ]
    }
   ],
   "source": [
    "# and btw you can specify any datatype you want for the matrix\n",
    "empty_array_int = np.empty((2, 3), dtype=int)  \n",
    "empty_array_bool = np.empty((2, 3), dtype=bool) \n",
    "#True corresponds to any non-zero value , and False corresponds to 0 value\n",
    "print(f\"empty_array_int :\\n{empty_array_int}\\n\")\n",
    "print(f\"empty_array_bool :\\n{empty_array_bool}\\n\")"
   ]
  },
  {
   "cell_type": "code",
   "execution_count": 31,
   "metadata": {},
   "outputs": [
    {
     "name": "stdout",
     "output_type": "stream",
     "text": [
      "[False  True  True  True  True False]\n"
     ]
    }
   ],
   "source": [
    "'''\n",
    "you can make an array contains T and F based on specific conidtion\n",
    "create your normal array and evaluate the condtion like the following\n",
    "'''\n",
    "arr = np.array([1, 3, 5, 2, 6, 8])\n",
    "bool_array = (arr >= 2) & (arr <= 6)\n",
    "print(bool_array)"
   ]
  },
  {
   "cell_type": "markdown",
   "metadata": {},
   "source": [
    "#### ✨ NOTE : "
   ]
  },
  {
   "cell_type": "code",
   "execution_count": 19,
   "metadata": {},
   "outputs": [
    {
     "name": "stdout",
     "output_type": "stream",
     "text": [
      "[[0 0]\n",
      " [0 0]\n",
      " [0 0]]\n",
      "[[1 1]\n",
      " [1 1]\n",
      " [1 1]]\n"
     ]
    }
   ],
   "source": [
    "# you can also use the function \"zeros_like\" , to give you the same dimensions\n",
    "arr = np.array([\n",
    "    [6, 5],\n",
    "    [2, 3],\n",
    "    [1, 4]\n",
    "])\n",
    "zeros_arr = np.zeros_like(arr)\n",
    "ones_arr = np.ones_like(arr)\n",
    "print(zeros_arr)\n",
    "print(ones_arr)"
   ]
  },
  {
   "cell_type": "code",
   "execution_count": 48,
   "metadata": {},
   "outputs": [
    {
     "name": "stdout",
     "output_type": "stream",
     "text": [
      "array: \n",
      "[[1 2]\n",
      " [3 4]]\n",
      "\n",
      "tiled_array: \n",
      "[[1 2 1 2]\n",
      " [3 4 3 4]\n",
      " [1 2 1 2]\n",
      " [3 4 3 4]]\n",
      "\n"
     ]
    }
   ],
   "source": [
    "'''\n",
    "np.tile is a function that allow you to repeat an array along axes\n",
    "'''\n",
    "arr = np.array([[1, 2],\n",
    "                [3, 4]])\n",
    "\n",
    "tiled_array = np.tile(arr,(2,2))\n",
    "# ✨try to change this (2,2) to (3) or any other numbers to see the difference\n",
    "print(f\"array: \\n{arr}\\n\")\n",
    "print(f\"tiled_array: \\n{tiled_array}\\n\")\n"
   ]
  },
  {
   "cell_type": "code",
   "execution_count": 24,
   "metadata": {},
   "outputs": [
    {
     "data": {
      "text/plain": [
       "array([[0., 1., 2.],\n",
       "       [1., 2., 3.],\n",
       "       [2., 3., 4.]])"
      ]
     },
     "execution_count": 24,
     "metadata": {},
     "output_type": "execute_result"
    }
   ],
   "source": [
    "def condition(x,y):\n",
    "    return x+y\n",
    "toto = np.fromfunction(condition, (3, 3))\n",
    "toto"
   ]
  },
  {
   "cell_type": "code",
   "execution_count": 1,
   "metadata": {},
   "outputs": [
    {
     "data": {
      "text/plain": [
       "'\\nIterations\\nWhen x=0 and y=0, the function condition(0, 0) is called.\\nWhen x=0 and y=1, the function condition(0, 1) is called.\\nWhen x=0 and y=2, the function condition(0, 2) is called.\\nWhen x=1 and y=0, the function condition(1, 0) is called.\\nWhen x=1 and y=1, the function condition(1, 1) is called.\\nWhen x=1 and y=2, the function condition(1, 2) is called.\\nWhen x=2 and y=0, the function condition(2, 0) is called.\\nWhen x=2 and y=1, the function condition(2, 1) is called.\\nWhen x=2 and y=2, the function condition(2, 2) is called.\\n'"
      ]
     },
     "execution_count": 1,
     "metadata": {},
     "output_type": "execute_result"
    }
   ],
   "source": [
    "'''\n",
    "the previous function is creating an array of 3 cols & 3 rows \n",
    "and it has the numbers from 0 to 2 for x and y\n",
    "as x  = 3 numbers and y = 3 numbers \n",
    "x = [0,1,2]\n",
    "y= [0,1,2]\n",
    "it makes all the combinations between them and pass that to the function that you wrote\n",
    "'''\n",
    "\n",
    "'''\n",
    "Iterations\n",
    "When x=0 and y=0, the function condition(0, 0) is called.\n",
    "When x=0 and y=1, the function condition(0, 1) is called.\n",
    "When x=0 and y=2, the function condition(0, 2) is called.\n",
    "When x=1 and y=0, the function condition(1, 0) is called.\n",
    "When x=1 and y=1, the function condition(1, 1) is called.\n",
    "When x=1 and y=2, the function condition(1, 2) is called.\n",
    "When x=2 and y=0, the function condition(2, 0) is called.\n",
    "When x=2 and y=1, the function condition(2, 1) is called.\n",
    "When x=2 and y=2, the function condition(2, 2) is called.\n",
    "'''"
   ]
  },
  {
   "cell_type": "markdown",
   "metadata": {},
   "source": [
    "<span style=\"color: #8f3b43; font-size: 35px;\">Matrices Operations 💫</span>"
   ]
  },
  {
   "cell_type": "code",
   "execution_count": 32,
   "metadata": {},
   "outputs": [
    {
     "name": "stdout",
     "output_type": "stream",
     "text": [
      "2\n",
      "(2, 3)\n"
     ]
    }
   ],
   "source": [
    "# each matrix have a rank and shape \n",
    "# the rank is the number of dimensions , and the shape is n rows ,n columns\n",
    "arr = np.array([[1, 2, 3], [4, 5, 6]])\n",
    "print(arr.ndim)  #prints the rank\n",
    "print(arr.shape) #prints the shape"
   ]
  },
  {
   "cell_type": "code",
   "execution_count": 37,
   "metadata": {},
   "outputs": [
    {
     "name": "stdout",
     "output_type": "stream",
     "text": [
      "inverse_matrix : \n",
      "[[-2.   1. ]\n",
      " [ 1.5 -0.5]]\n",
      "\n",
      "transpose_matrix : \n",
      "[[1 3]\n",
      " [2 1]]\n",
      "\n",
      "transpose2_matrix : \n",
      "[[1 3]\n",
      " [2 1]]\n",
      "\n",
      "determinant : \n",
      "-2.0000000000000004\n",
      "\n",
      "eigenvalues : \n",
      "[-0.37228132  5.37228132]\n",
      "\n",
      "eigenvectors : \n",
      "[[-0.82456484 -0.41597356]\n",
      " [ 0.56576746 -0.90937671]]\n",
      "\n",
      "ones_diagonal : \n",
      "[[1 2]\n",
      " [3 1]]\n",
      "\n"
     ]
    }
   ],
   "source": [
    "matrix = np.array([[1, 2],\n",
    "                  [3, 4]])\n",
    "\n",
    "# this line of code computes the inverse of the matrix\n",
    "inverse_matrix = np.linalg.inv(matrix)\n",
    "# to calculate the transpose you can use .T or the following function\n",
    "transpose_matrix = matrix.T\n",
    "transpose2_matrix = np.transpose(matrix)\n",
    "\n",
    "# you can also claculate the deteminant of a matrix \n",
    "determinant = np.linalg.det(matrix)\n",
    "'''\n",
    "np.linalg.eig is a function that returns the eigenvalues & vectors \n",
    "it's a topic in linear algebra that we will need later in ML\n",
    "'''\n",
    "eigenvalues, eigenvectors = np.linalg.eig(matrix)\n",
    "'''\n",
    "and this is a function that let you fill the diagonal with the value that you want\n",
    "it changes the original matrix not assign it to another var\n",
    "'''\n",
    "np.fill_diagonal(matrix,1)\n",
    "print(f\"inverse_matrix : \\n{inverse_matrix}\\n\")\n",
    "print(f\"transpose_matrix : \\n{transpose_matrix}\\n\")\n",
    "print(f\"transpose2_matrix : \\n{transpose2_matrix}\\n\")\n",
    "print(f\"determinant : \\n{determinant}\\n\")\n",
    "print(f\"eigenvalues : \\n{eigenvalues}\\n\")\n",
    "print(f\"eigenvectors : \\n{eigenvectors}\\n\")\n",
    "print(f\"ones_diagonal : \\n{matrix}\\n\")"
   ]
  },
  {
   "cell_type": "code",
   "execution_count": 40,
   "metadata": {},
   "outputs": [
    {
     "name": "stdout",
     "output_type": "stream",
     "text": [
      "row concatenation :\n",
      " [[1 2]\n",
      " [3 4]\n",
      " [5 6]\n",
      " [7 8]]\n",
      "\n",
      "column concatenation :\n",
      " [[1 2 5 6]\n",
      " [3 4 7 8]]\n",
      "\n"
     ]
    }
   ],
   "source": [
    "# you can join 2 array amoung rows axis=0, or columns axis=1\n",
    "arr1 = np.array([[1, 2],\n",
    "                 [3, 4]])\n",
    "arr2 = np.array([[5, 6], \n",
    "                 [7, 8]])\n",
    "arr = np.concatenate((arr1, arr2), axis=0)\n",
    "print(f\"row concatenation :\\n {arr}\\n\")\n",
    "arr = np.concatenate((arr1, arr2), axis=1)\n",
    "print(f\"column concatenation :\\n {arr}\\n\")"
   ]
  },
  {
   "cell_type": "code",
   "execution_count": 43,
   "metadata": {},
   "outputs": [
    {
     "name": "stdout",
     "output_type": "stream",
     "text": [
      "sub_arrays : [array([1, 2, 3]), array([4, 5, 6]), array([7, 8, 9])]\n",
      "\n",
      "Sub-array1: [1 2 3]\n",
      "Sub-array2: [4 5 6]\n",
      "Sub-array3: [7 8 9]\n"
     ]
    }
   ],
   "source": [
    "# as we concatenated 2 arrays let's try to split them\n",
    "# using \"array_split\" function\n",
    "\n",
    "arr = np.array([1, 2, 3, 4, 5, 6, 7, 8, 9])\n",
    "\n",
    "sub_arrays = np.array_split(arr, 3)\n",
    "#the second parameter is the number of equal sizes arrays\n",
    "print (f\"sub_arrays : {sub_arrays}\\n\")\n",
    "for i, sub_array in enumerate(sub_arrays):\n",
    "    print(f\"Sub-array{i+1}: {sub_array}\")\n",
    "\n",
    "'''\n",
    "enumerate is a function that allows you to loop over an iterable \n",
    "(like a list, tuple, or string)\n",
    "and keep track of the index of the current item\n",
    "as it returns the index and the element\n",
    "'''"
   ]
  },
  {
   "cell_type": "code",
   "execution_count": 57,
   "metadata": {},
   "outputs": [
    {
     "name": "stdout",
     "output_type": "stream",
     "text": [
      "arr1 + arr2 :\n",
      " [[ 6  8]\n",
      " [10 12]]\n",
      "arr1 + 5 :\n",
      " [[6 7]\n",
      " [8 9]]\n",
      "arr1 - arr1 :\n",
      " [[0 0]\n",
      " [0 0]]\n"
     ]
    }
   ],
   "source": [
    "arr1 = np.array([[1, 2],\n",
    "                 [3, 4]])\n",
    "\n",
    "arr2 = np.array([[5, 6],\n",
    "                 [7, 8]])\n",
    "\n",
    "#normal addtion must done on 2 arrays of the same dimension\n",
    "print (f\"arr1 + arr2 :\\n {arr1 + arr2}\")\n",
    "print (f\"arr1 + 5 :\\n {arr1 + 5}\")\n",
    "print (f\"arr1 - arr1 :\\n {arr1 - arr1}\")\n"
   ]
  },
  {
   "cell_type": "markdown",
   "metadata": {},
   "source": [
    "<span style=\"color: #8f3b43; font-size: 35px; font-weight: bold;\">🔶 Multiplication</span>\n",
    "\n",
    "<span style=\"color: #8f3b43; font-size: 20px;\">There are three different multiplication concepts, so let's take a look:</span><br/>\n",
    "<br/>\n",
    "<span style=\"color: #4CAF50; font-size: 27px; font-weight: bold;\">🔸 1st: Element-wise Multiplication (*)</span><br/>\n",
    "<span style=\"color: black; font-size: 23px;\">This type multiplies each element with the corresponding one, and it requires the two arrays to be the same shape.</span><br/>\n",
    "<br/>\n",
    "<span style=\"color: #4CAF50; font-size: 27px; font-weight: bold;\">🔸 2nd: Matrix Multiplication or Dot Product (np.dot(), .dot(), and @)</span><br/>\n",
    "<span style=\"color: black; font-size: 23px;\">This type requires the number of columns in the first matrix to be equal to the number of rows in the second matrix.</span><br/>\n",
    "<br/>\n",
    "<span style=\"color: #4CAF50; font-size: 27px; font-weight: bold;\">🔸 3rd: Matrix-Vector Multiplication (using the same functions but with a vector)</span><br/>\n",
    "<span style=\"color: black; font-size: 23px;\">This type multiplies each row of the matrix by the corresponding element of the vector.</span><br/>\n",
    "<br/>\n"
   ]
  },
  {
   "cell_type": "code",
   "execution_count": 60,
   "metadata": {},
   "outputs": [],
   "source": [
    "vector = np.array([9, 10])"
   ]
  },
  {
   "cell_type": "code",
   "execution_count": null,
   "metadata": {},
   "outputs": [],
   "source": []
  },
  {
   "cell_type": "code",
   "execution_count": null,
   "metadata": {},
   "outputs": [],
   "source": []
  }
 ],
 "metadata": {
  "kernelspec": {
   "display_name": "base",
   "language": "python",
   "name": "python3"
  },
  "language_info": {
   "codemirror_mode": {
    "name": "ipython",
    "version": 3
   },
   "file_extension": ".py",
   "mimetype": "text/x-python",
   "name": "python",
   "nbconvert_exporter": "python",
   "pygments_lexer": "ipython3",
   "version": "3.9.12"
  }
 },
 "nbformat": 4,
 "nbformat_minor": 2
}
